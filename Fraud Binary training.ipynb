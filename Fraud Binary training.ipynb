{
 "cells": [
  {
   "cell_type": "code",
   "execution_count": 12,
   "id": "fcd72d93-7c60-47ae-a087-0189de7ccbe5",
   "metadata": {},
   "outputs": [],
   "source": [
    "import pandas as pd\n",
    "import numpy as np\n",
    "from sklearn.model_selection import train_test_split\n",
    "from sklearn.preprocessing import StandardScaler\n",
    "from tensorflow import keras\n",
    "from tensorflow.keras import layers\n",
    "import matplotlib.pyplot as plt\n",
    "from graphviz import Digraph\n"
   ]
  },
  {
   "cell_type": "code",
   "execution_count": 13,
   "id": "06aaa3f2-b3a1-4c12-8459-48dde5eb7c68",
   "metadata": {},
   "outputs": [],
   "source": [
    "# Загрузка данных\n",
    "df = pd.read_csv('./input/PS_20174392719_1491204439457_log.csv')"
   ]
  },
  {
   "cell_type": "code",
   "execution_count": 14,
   "id": "5d92e903-b947-4ff4-b501-0ce70aab3000",
   "metadata": {},
   "outputs": [],
   "source": [
    "# Разделение данных на признаки и целевую переменную\n",
    "X = df[['amount', 'oldbalanceOrg', 'newbalanceOrig', 'oldbalanceDest', 'newbalanceDest']]\n",
    "y = df['isFraud']\n",
    "\n",
    "# Разделение данных на обучающий и тестовый наборы\n",
    "X_train, X_test, y_train, y_test = train_test_split(X, y, test_size=0.2, random_state=42)"
   ]
  },
  {
   "cell_type": "code",
   "execution_count": 15,
   "id": "df2aecd4-6f03-4cfc-9ce6-b7d7f581944c",
   "metadata": {},
   "outputs": [
    {
     "name": "stderr",
     "output_type": "stream",
     "text": [
      "C:\\Users\\csode\\.git\\gitlab\\lab\\venv\\Lib\\site-packages\\keras\\src\\layers\\core\\dense.py:87: UserWarning: Do not pass an `input_shape`/`input_dim` argument to a layer. When using Sequential models, prefer using an `Input(shape)` object as the first layer in the model instead.\n",
      "  super().__init__(activity_regularizer=activity_regularizer, **kwargs)\n"
     ]
    },
    {
     "name": "stdout",
     "output_type": "stream",
     "text": [
      "Epoch 1/5\n",
      "\u001b[1m127253/127253\u001b[0m \u001b[32m━━━━━━━━━━━━━━━━━━━━\u001b[0m\u001b[37m\u001b[0m \u001b[1m557s\u001b[0m 4ms/step - accuracy: 0.9991 - loss: 0.0069 - val_accuracy: 0.9993 - val_loss: 0.0036\n",
      "Epoch 2/5\n",
      "\u001b[1m127253/127253\u001b[0m \u001b[32m━━━━━━━━━━━━━━━━━━━━\u001b[0m\u001b[37m\u001b[0m \u001b[1m507s\u001b[0m 4ms/step - accuracy: 0.9993 - loss: 0.0040 - val_accuracy: 0.9993 - val_loss: 0.0038\n",
      "Epoch 3/5\n",
      "\u001b[1m127253/127253\u001b[0m \u001b[32m━━━━━━━━━━━━━━━━━━━━\u001b[0m\u001b[37m\u001b[0m \u001b[1m557s\u001b[0m 4ms/step - accuracy: 0.9993 - loss: 0.0039 - val_accuracy: 0.9994 - val_loss: 0.0037\n",
      "Epoch 4/5\n",
      "\u001b[1m127253/127253\u001b[0m \u001b[32m━━━━━━━━━━━━━━━━━━━━\u001b[0m\u001b[37m\u001b[0m \u001b[1m449s\u001b[0m 4ms/step - accuracy: 0.9993 - loss: 0.0036 - val_accuracy: 0.9994 - val_loss: 0.0035\n",
      "Epoch 5/5\n",
      "\u001b[1m127253/127253\u001b[0m \u001b[32m━━━━━━━━━━━━━━━━━━━━\u001b[0m\u001b[37m\u001b[0m \u001b[1m475s\u001b[0m 4ms/step - accuracy: 0.9994 - loss: 0.0035 - val_accuracy: 0.9994 - val_loss: 0.0030\n"
     ]
    }
   ],
   "source": [
    "# Стандартизация данных\n",
    "scaler = StandardScaler()\n",
    "X_train_scaled = scaler.fit_transform(X_train)\n",
    "X_test_scaled = scaler.transform(X_test)\n",
    "\n",
    "EPOCH_COUNT = 5\n",
    "\n",
    "# Создание модели Keras\n",
    "model = keras.Sequential([\n",
    "    layers.Dense(64, activation='relu', input_shape=(X_train_scaled.shape[1],)),\n",
    "    layers.Dense(64, activation='relu'),\n",
    "    layers.Dense(1, activation='sigmoid')\n",
    "])\n",
    "\n",
    "# Компиляция модели\n",
    "model.compile(optimizer='adam', loss='binary_crossentropy', metrics=['accuracy'])\n",
    "\n",
    "# Обучение модели\n",
    "H = model.fit(X_train_scaled, y_train, epochs=EPOCH_COUNT, batch_size=32, validation_split=0.2)"
   ]
  },
  {
   "cell_type": "code",
   "execution_count": 25,
   "id": "46a3900f-6791-41c0-9a85-54e0722e0ead",
   "metadata": {},
   "outputs": [
    {
     "data": {
      "image/png": "[encoded data removed]",
      "text/plain": [
       "<Figure size 640x480 with 1 Axes>"
      ]
     },
     "metadata": {},
     "output_type": "display_data"
    }
   ],
   "source": [
    "plt.style.use(\"ggplot\")\n",
    "plt.figure()\n",
    "plt.plot(np.arange(0, EPOCH_COUNT), H.history[\"loss\"], label=\"train_loss\")\n",
    "plt.plot(np.arange(0, EPOCH_COUNT), H.history[\"val_loss\"], label=\"val_loss\")\n",
    "plt.plot(np.arange(0, EPOCH_COUNT), H.history[\"accuracy\"], label=\"acc\")\n",
    "plt.plot(np.arange(0, EPOCH_COUNT), H.history[\"val_accuracy\"], label=\"val_acc\")\n",
    "plt.title(\"Training Loss and Accuracy\")\n",
    "plt.xlabel(\"Epoch %s\" % str(EPOCH_COUNT))\n",
    "plt.ylabel(\"Loss/Accuracy\")\n",
    "plt.legend()\n",
    "plt.savefig('foo.png')\n",
    "plt.show()\n"
   ]
  },
  {
   "cell_type": "code",
   "execution_count": null,
   "id": "e295229f-38b1-43dc-a8c2-d1a8da483146",
   "metadata": {},
   "outputs": [],
   "source": []
  },
  {
   "cell_type": "code",
   "execution_count": 17,
   "id": "3deb1293-ed53-4ea9-85a1-814a12a2fc6b",
   "metadata": {},
   "outputs": [
    {
     "name": "stdout",
     "output_type": "stream",
     "text": [
      "\u001b[1m39767/39767\u001b[0m \u001b[32m━━━━━━━━━━━━━━━━━━━━\u001b[0m\u001b[37m\u001b[0m \u001b[1m107s\u001b[0m 3ms/step - accuracy: 0.9994 - loss: 0.0029\n",
      "Test accuracy: 0.9994051456451416\n"
     ]
    }
   ],
   "source": [
    "# Оценка модели\n",
    "test_loss, test_accuracy = model.evaluate(X_test_scaled, y_test)\n",
    "print(f'Test accuracy: {test_accuracy}')"
   ]
  },
  {
   "cell_type": "code",
   "execution_count": 18,
   "id": "7491586e-e4e0-490c-81b4-073ebf6059de",
   "metadata": {},
   "outputs": [
    {
     "name": "stdout",
     "output_type": "stream",
     "text": [
      "\u001b[1m39767/39767\u001b[0m \u001b[32m━━━━━━━━━━━━━━━━━━━━\u001b[0m\u001b[37m\u001b[0m \u001b[1m100s\u001b[0m 3ms/step\n"
     ]
    }
   ],
   "source": [
    "# Предсказание фрауда\n",
    "predictions = model.predict(X_test_scaled)\n",
    "fraud_predictions = (predictions > 0.5).astype(int)\n"
   ]
  },
  {
   "cell_type": "code",
   "execution_count": 19,
   "id": "8641176a-57bc-4ea0-a9fa-4014b572624e",
   "metadata": {},
   "outputs": [
    {
     "name": "stdout",
     "output_type": "stream",
     "text": [
      "             amount  oldbalanceOrg  newbalanceOrig  oldbalanceDest  \\\n",
      "3737323   330218.42       20866.00       351084.42       452419.57   \n",
      "264914     11647.08       30370.00        18722.92            0.00   \n",
      "85647     152264.21      106589.00       258853.21       201303.01   \n",
      "5899326  1551760.63           0.00            0.00      3198359.45   \n",
      "2544263    78172.30     2921331.58      2999503.88       415821.90   \n",
      "...             ...            ...             ...             ...   \n",
      "2210524      917.99        9606.00         8688.01            0.00   \n",
      "956542       480.58        4683.00         4202.42            0.00   \n",
      "5474798   248511.67         507.00            0.00        23807.93   \n",
      "878120    200008.65           0.00            0.00       589973.64   \n",
      "1592828    48066.50      202207.00       250273.50       594770.06   \n",
      "\n",
      "         newbalanceDest  isFraudPrediction  isFraud  \n",
      "3737323       122201.15                  0        0  \n",
      "264914             0.00                  0        0  \n",
      "85647          49038.80                  0        0  \n",
      "5899326      4750120.08                  0        0  \n",
      "2544263       337649.60                  0        0  \n",
      "...                 ...                ...      ...  \n",
      "2210524            0.00                  0        0  \n",
      "956542             0.00                  0        0  \n",
      "5474798       272319.61                  0        0  \n",
      "878120        789982.29                  0        0  \n",
      "1592828       546703.55                  0        0  \n",
      "\n",
      "[1272524 rows x 7 columns]\n"
     ]
    }
   ],
   "source": [
    "# Добавление колонки с оценкой фрауда к тестовым данным\n",
    "X_test['isFraudPrediction'] = fraud_predictions\n",
    "\n",
    "result_df = pd.concat([X_test, y_test], axis=1)\n",
    "print(result_df)\n"
   ]
  },
  {
   "cell_type": "code",
   "execution_count": 20,
   "id": "28acdf36-99c3-4c3a-a2dc-0114be423555",
   "metadata": {},
   "outputs": [],
   "source": [
    "result_df.to_csv('fraud_predictions.csv', index=False)"
   ]
  },
  {
   "cell_type": "code",
   "execution_count": 22,
   "id": "f6b4da71-983c-4b17-bedb-a628ba299c3a",
   "metadata": {},
   "outputs": [
    {
     "data": {
      "text/plain": [
       "<Figure size 640x480 with 0 Axes>"
      ]
     },
     "metadata": {},
     "output_type": "display_data"
    }
   ],
   "source": [
    "plt.savefig('foo.png')"
   ]
  },
  {
   "cell_type": "code",
   "execution_count": null,
   "id": "4236ec4d-5a95-45dc-b748-56294953e342",
   "metadata": {},
   "outputs": [],
   "source": [
    "dot = Digraph()\n",
    "\n",
    "dot.attr(rankdir='LR')\n",
    "\n",
    "layers = [\n",
    "    ('Input Layer', 3, 'blue', ['X1', 'X2', 'Xn'], 9, None),\n",
    "    ('Hidden Layer 1', 3, 'red', ['A1', 'A2', 'An'], 64, 'relu'),\n",
    "    ('Hidden Layer 2', 3, 'red', ['A1', 'A2', 'An'], 64, 'relu'),\n",
    "    ('Output Layer', 2, 'green', ['1', '0'], 2, 'softmax')\n",
    "]\n",
    "\n",
    "added_nodes = {}\n",
    "\n",
    "for layer_name, num_nodes, color, labels, num_neurons, activation_func in layers:\n",
    "    label = f'{layer_name}\\nNeurons: {num_neurons}\\nActivation: {activation_func}' if activation_func else f'{layer_name}\\nNeurons: {num_neurons}'\n",
    "    with dot.subgraph(name='cluster_' + layer_name.replace(' ', '_')) as c:\n",
    "        c.attr(color=color, label=label, labelloc='t')\n",
    "        added_nodes[layer_name] = []\n",
    "        for i in range(num_nodes):\n",
    "            node_name = f'{layer_name}_{i}'\n",
    "            c.node(node_name, shape='circle', style='filled', fillcolor='white', label=labels[i])\n",
    "            added_nodes[layer_name].append(node_name)\n",
    "\n",
    "for i in range(len(layers) - 1):\n",
    "    current_layer_name, _, _, _, _, _ = layers[i]\n",
    "    next_layer_name, _, _, _, _, _ = layers[i + 1]\n",
    "    for current_node_name in added_nodes[current_layer_name]:\n",
    "        if current_layer_name != next_layer_name:  # Исключаем добавление рёбер для текущего слоя\n",
    "            for next_node_name in added_nodes[next_layer_name]:\n",
    "                dot.edge(current_node_name, next_node_name)\n",
    "\n",
    "\n",
    "dot.render('model_visualization', format='png')\n",
    "dot"
   ]
  }
 ],
 "metadata": {
  "kernelspec": {
   "display_name": "Python 3 (ipykernel)",
   "language": "python",
   "name": "python3"
  },
  "language_info": {
   "codemirror_mode": {
    "name": "ipython",
    "version": 3
   },
   "file_extension": ".py",
   "mimetype": "text/x-python",
   "name": "python",
   "nbconvert_exporter": "python",
   "pygments_lexer": "ipython3",
   "version": "3.11.2"
  }
 },
 "nbformat": 4,
 "nbformat_minor": 5
}
